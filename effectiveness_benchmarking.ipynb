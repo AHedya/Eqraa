{
 "cells": [
  {
   "cell_type": "code",
   "execution_count": 3,
   "metadata": {},
   "outputs": [],
   "source": [
    "from transformers import pipeline\n",
    "import torch\n",
    "device = 'cuda' if torch.cuda.is_available() else 'cpu'\n"
   ]
  },
  {
   "cell_type": "code",
   "execution_count": 4,
   "metadata": {},
   "outputs": [],
   "source": [
    "from Models.models import ASR_base , ASR_syl"
   ]
  },
  {
   "cell_type": "code",
   "execution_count": 5,
   "metadata": {},
   "outputs": [
    {
     "name": "stdout",
     "output_type": "stream",
     "text": [
      "\u001b[42m \u001b[33m creating ASR tarteel-asr... \u001b[49m \u001b[39m\n"
     ]
    },
    {
     "name": "stderr",
     "output_type": "stream",
     "text": [
      "Special tokens have been added in the vocabulary, make sure the associated word embeddings are fine-tuned or trained.\n"
     ]
    },
    {
     "name": "stdout",
     "output_type": "stream",
     "text": [
      "\u001b[42m \u001b[33m creating ASR syllables... \u001b[49m \u001b[39m\n"
     ]
    }
   ],
   "source": [
    "ASR = ASR_base()\n",
    "ASR_syl = ASR_syl()\n"
   ]
  },
  {
   "cell_type": "code",
   "execution_count": 16,
   "metadata": {},
   "outputs": [
    {
     "name": "stdout",
     "output_type": "stream",
     "text": [
      "d:\\Graduation\n"
     ]
    }
   ],
   "source": [
    "import os \n",
    "print(os.getcwd())"
   ]
  },
  {
   "cell_type": "code",
   "execution_count": 17,
   "metadata": {},
   "outputs": [
    {
     "name": "stdout",
     "output_type": "stream",
     "text": [
      "Wrong: {'text': 'الْحَمْدَى'}\n",
      "Correct: {'text': 'الْحَمْدُ'}\n"
     ]
    }
   ],
   "source": [
    "correct  =ASR(r\"./testcases/X1/11.wav\")\n",
    "wrong =ASR(r\"./testcases/X1/01.wav\")\n",
    "\n",
    "\n",
    "print(f\"Wrong: {wrong}\\nCorrect: {correct}\")"
   ]
  },
  {
   "cell_type": "code",
   "execution_count": 20,
   "metadata": {},
   "outputs": [
    {
     "name": "stdout",
     "output_type": "stream",
     "text": [
      "Wrong: {'text': 'لِلَّهِ'}\n",
      "Correct: {'text': 'لِلَّهِ'}\n"
     ]
    }
   ],
   "source": [
    "correct  =ASR(r\"./testcases/X1/12.wav\")\n",
    "wrong =ASR(r\"./testcases/X1/02.wav\")\n",
    "\n",
    "\n",
    "print(f\"Wrong: {wrong}\\nCorrect: {correct}\")"
   ]
  },
  {
   "cell_type": "code",
   "execution_count": 26,
   "metadata": {},
   "outputs": [
    {
     "name": "stdout",
     "output_type": "stream",
     "text": [
      "Wrong: {'text': 'رَبَّ'}\n",
      "Correct: {'text': 'رَبِّ'}\n"
     ]
    }
   ],
   "source": [
    "correct  =ASR(r\"./testcases/X2/13.wav\")\n",
    "wrong =ASR(r\"./testcases/X2/03.wav\")\n",
    "\n",
    "\n",
    "print(f\"Wrong: {wrong}\\nCorrect: {correct}\")"
   ]
  },
  {
   "cell_type": "code",
   "execution_count": 19,
   "metadata": {},
   "outputs": [
    {
     "name": "stdout",
     "output_type": "stream",
     "text": [
      "Wrong: {'text': 'فَ حَ بَاْ'}\n",
      "Correct: {'text': 'وَلْ حَ ضُوْدْ'}\n"
     ]
    }
   ],
   "source": [
    "correct  =ASR_syl(r\"./testcases/X1/11.wav\")\n",
    "wrong =ASR_syl(r\"./testcases/X1/01.wav\")\n",
    "\n",
    "\n",
    "print(f\"Wrong: {wrong}\\nCorrect: {correct}\")"
   ]
  },
  {
   "cell_type": "code",
   "execution_count": 29,
   "metadata": {},
   "outputs": [
    {
     "name": "stdout",
     "output_type": "stream",
     "text": [
      "{'text': 'ءَلْ حَمْ دُ لِلْ لَاْ ھِ رَبْ بِلْ عَ لَ مِيْنْ'}\n"
     ]
    }
   ],
   "source": [
    "whole_verse =ASR_syl(r\"./testcases/wholeVerses_alFatiha/002.wav\")\n",
    "print(whole_verse)"
   ]
  },
  {
   "cell_type": "code",
   "execution_count": 12,
   "metadata": {},
   "outputs": [],
   "source": [
    "from TrainedModels.trainedModesl import KWS_CNN , KWS_LSTM\n",
    "KWSS_CNN = KWS_CNN()\n",
    "KWSS_LSTM = KWS_LSTM()"
   ]
  },
  {
   "cell_type": "code",
   "execution_count": 36,
   "metadata": {},
   "outputs": [
    {
     "name": "stdout",
     "output_type": "stream",
     "text": [
      "tensor(0.0025, device='cuda:0')\n",
      "tensor(1.0000, device='cuda:0')\n"
     ]
    }
   ],
   "source": [
    "with torch.no_grad():\n",
    "    print(KWSS_CNN(r\"./testcases/perfectlyCut/c01.wav\")[0][4]) #first word in second verse has index 4 \n",
    "    print(KWSS_CNN(r\"./testcases/perfectlyCut/c11.wav\")[0][4])\n",
    "    \n",
    "    "
   ]
  },
  {
   "cell_type": "code",
   "execution_count": 39,
   "metadata": {},
   "outputs": [
    {
     "name": "stdout",
     "output_type": "stream",
     "text": [
      "LSTM with clipped audio: \n",
      "tensor(9.5365e-07, device='cuda:0')\n",
      "tensor(0.9953, device='cuda:0')\n",
      "\n",
      "LSTM with non-clipped audio: \n",
      "tensor(0.0003, device='cuda:0')\n",
      "tensor(0.9986, device='cuda:0')\n"
     ]
    }
   ],
   "source": [
    "with torch.no_grad():\n",
    "    print(\"LSTM with clipped audio: \")\n",
    "    print(KWSS_LSTM(r\"./testcases/perfectlyCut/c01.wav\")[0][4]) \n",
    "    print(KWSS_LSTM(r\"./testcases/perfectlyCut/c11.wav\")[0][4])\n",
    "    print(\"\\nLSTM with non-clipped audio: \")\n",
    "    print(KWSS_LSTM(r\"./testcases/X1/01.wav\")[0][4]) \n",
    "    print(KWSS_LSTM(r\"./testcases/X1/11.wav\")[0][4]) \n",
    "    # not much difference because LSTM pipeline has built in silence remover \n"
   ]
  },
  {
   "cell_type": "code",
   "execution_count": null,
   "metadata": {},
   "outputs": [],
   "source": []
  }
 ],
 "metadata": {
  "kernelspec": {
   "display_name": "torch-gpu",
   "language": "python",
   "name": "python3"
  },
  "language_info": {
   "codemirror_mode": {
    "name": "ipython",
    "version": 3
   },
   "file_extension": ".py",
   "mimetype": "text/x-python",
   "name": "python",
   "nbconvert_exporter": "python",
   "pygments_lexer": "ipython3",
   "version": "3.11.5"
  }
 },
 "nbformat": 4,
 "nbformat_minor": 2
}
