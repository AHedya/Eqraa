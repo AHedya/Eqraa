{
 "cells": [
  {
   "cell_type": "code",
   "execution_count": 7,
   "metadata": {},
   "outputs": [],
   "source": [
    "from torch import no_grad\n",
    "from Models.models import ASR_tiny , ASR_base , ASR_syl\n",
    "import time\n"
   ]
  },
  {
   "cell_type": "code",
   "execution_count": 4,
   "metadata": {},
   "outputs": [
    {
     "name": "stdout",
     "output_type": "stream",
     "text": [
      "Execution time: 0.6743423938751221 seconds\n"
     ]
    },
    {
     "data": {
      "text/plain": [
       "{'text': 'الْحَمْدُ لِلَّهِ رَبِّ الْعَالَمِينَ'}"
      ]
     },
     "execution_count": 4,
     "metadata": {},
     "output_type": "execute_result"
    }
   ],
   "source": [
    "# run cell twice or more to notce differences \n",
    "\n",
    "start_time = time.time()\n",
    "model_tiny = ASR_tiny()\n",
    "res = model_tiny(r'./testcases/wholeVerses_alFatiha/002.wav')\n",
    "end_time = time.time()\n",
    "execution_time = end_time - start_time\n",
    "print(\"Execution time:\", execution_time, \"seconds\")\n",
    "res"
   ]
  },
  {
   "cell_type": "code",
   "execution_count": 6,
   "metadata": {},
   "outputs": [
    {
     "name": "stdout",
     "output_type": "stream",
     "text": [
      "Execution time: 1.107347011566162 seconds\n"
     ]
    },
    {
     "data": {
      "text/plain": [
       "{'text': 'الْحَمْدُ لِلَّهِ رَبِّ الْعَالَمِينَ'}"
      ]
     },
     "execution_count": 6,
     "metadata": {},
     "output_type": "execute_result"
    }
   ],
   "source": [
    "# run cell twice or more to notce differences \n",
    "\n",
    "start_time = time.time()\n",
    "model_base = ASR_base()\n",
    "res = model_base(r'./testcases/wholeVerses_alFatiha/002.wav')\n",
    "end_time = time.time()\n",
    "execution_time = end_time - start_time\n",
    "print(\"Execution time:\", execution_time, \"seconds\")\n",
    "res"
   ]
  },
  {
   "cell_type": "code",
   "execution_count": 4,
   "metadata": {},
   "outputs": [
    {
     "name": "stdout",
     "output_type": "stream",
     "text": [
      "Execution time: 0.4743049144744873 seconds\n"
     ]
    },
    {
     "data": {
      "text/plain": [
       "{'text': 'ءَلْ حَمْ دُ لِلْ لَاْ ھِ رَبْ بِلْ عَ لَ مِيْنْ'}"
      ]
     },
     "execution_count": 4,
     "metadata": {},
     "output_type": "execute_result"
    }
   ],
   "source": [
    "# run cell twice or more to notce differences \n",
    "\n",
    "start_time = time.time()\n",
    "Model_syl  = ASR_syl()\n",
    "res = Model_syl(r'./testcases/wholeVerses_alFatiha/002.wav')\n",
    "end_time = time.time()\n",
    "execution_time = end_time - start_time\n",
    "print(\"Execution time:\", execution_time, \"seconds\")\n",
    "res"
   ]
  },
  {
   "cell_type": "code",
   "execution_count": 9,
   "metadata": {},
   "outputs": [],
   "source": [
    "from TrainedModels.trainedModesl import KWS_CNN , KWS_LSTM\n",
    "import time"
   ]
  },
  {
   "cell_type": "code",
   "execution_count": 10,
   "metadata": {},
   "outputs": [
    {
     "name": "stdout",
     "output_type": "stream",
     "text": [
      "Execution time: 0.020558595657348633 seconds\n"
     ]
    },
    {
     "data": {
      "text/plain": [
       "tensor([[7.3819e-10, 2.1584e-12, 2.7361e-11, 1.3732e-10, 9.9996e-01, 1.6277e-12,\n",
       "         5.0579e-12, 1.3549e-10, 2.6138e-07, 3.6780e-14, 6.4524e-11, 2.2612e-11,\n",
       "         1.0125e-12, 8.2246e-13, 2.4823e-09, 4.2071e-12, 9.0470e-08, 4.7017e-10,\n",
       "         4.4528e-11, 4.2365e-09, 3.2342e-13, 7.9893e-11, 4.2866e-05, 9.2927e-07,\n",
       "         8.1519e-10, 1.2588e-12, 2.6781e-13, 1.3109e-10, 1.8493e-11]],\n",
       "       device='cuda:0')"
      ]
     },
     "execution_count": 10,
     "metadata": {},
     "output_type": "execute_result"
    }
   ],
   "source": [
    "# run cell twice or more to notce differences \n",
    "\n",
    "start_time = time.time()\n",
    "model_cnn = KWS_CNN()\n",
    "with no_grad():\n",
    "    res = model_cnn(r'./testcases/perfectlyCut/c11.wav')\n",
    "    end_time = time.time()\n",
    "execution_time = end_time - start_time\n",
    "print(\"Execution time:\", execution_time, \"seconds\")\n",
    "res"
   ]
  },
  {
   "cell_type": "code",
   "execution_count": 11,
   "metadata": {},
   "outputs": [
    {
     "name": "stdout",
     "output_type": "stream",
     "text": [
      "Execution time: 0.5626482963562012 seconds\n"
     ]
    },
    {
     "data": {
      "text/plain": [
       "tensor([[3.8535e-06, 4.8316e-08, 2.9905e-07, 1.6189e-03, 9.9535e-01, 3.3129e-06,\n",
       "         3.4385e-06, 1.6010e-07, 4.2660e-06, 2.8433e-06, 2.3174e-05, 5.7422e-07,\n",
       "         2.5485e-07, 2.5509e-08, 5.9912e-06, 1.5190e-05, 2.5765e-04, 4.2619e-08,\n",
       "         5.1140e-06, 3.4861e-07, 1.3978e-05, 1.7359e-08, 3.4037e-04, 2.3185e-03,\n",
       "         2.5229e-07, 3.0158e-05, 1.3741e-07, 4.1357e-06, 4.3638e-07]],\n",
       "       device='cuda:0')"
      ]
     },
     "execution_count": 11,
     "metadata": {},
     "output_type": "execute_result"
    }
   ],
   "source": [
    "# run cell twice or more to notce differences \n",
    "\n",
    "start_time = time.time()\n",
    "model_LSTM = KWS_LSTM()\n",
    "with no_grad():\n",
    "    res = model_LSTM(r'./testcases/perfectlyCut/c11.wav')\n",
    "    end_time = time.time()\n",
    "execution_time = end_time - start_time\n",
    "print(\"Execution time:\", execution_time, \"seconds\")\n",
    "res"
   ]
  },
  {
   "cell_type": "code",
   "execution_count": null,
   "metadata": {},
   "outputs": [],
   "source": []
  }
 ],
 "metadata": {
  "kernelspec": {
   "display_name": "torch-gpu",
   "language": "python",
   "name": "python3"
  },
  "language_info": {
   "codemirror_mode": {
    "name": "ipython",
    "version": 3
   },
   "file_extension": ".py",
   "mimetype": "text/x-python",
   "name": "python",
   "nbconvert_exporter": "python",
   "pygments_lexer": "ipython3",
   "version": "3.11.5"
  }
 },
 "nbformat": 4,
 "nbformat_minor": 2
}
