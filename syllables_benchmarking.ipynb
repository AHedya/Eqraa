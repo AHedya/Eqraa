{
 "cells": [
  {
   "cell_type": "code",
   "execution_count": 6,
   "metadata": {},
   "outputs": [
    {
     "name": "stdout",
     "output_type": "stream",
     "text": [
      "\u001b[42m \u001b[33m creating ASR syllables... \u001b[49m \u001b[39m\n"
     ]
    }
   ],
   "source": [
    "import os\n",
    "from Models.models import ASR_syl\n",
    "\n",
    "model = ASR_syl()"
   ]
  },
  {
   "cell_type": "code",
   "execution_count": 26,
   "metadata": {},
   "outputs": [
    {
     "name": "stdout",
     "output_type": "stream",
     "text": [
      "1.wav\n",
      "2.wav\n",
      "3.wav\n",
      "4.wav\n",
      "5.wav\n",
      "6.wav\n",
      "7.wav\n",
      "8.wav\n",
      "9.wav\n",
      "10.wav\n"
     ]
    }
   ],
   "source": [
    "results = []\n",
    "for _,_,files in os.walk(r\"C:\\Users\\AbdoHedya\\OneDrive\\سطح المكتب\\testcases-GRADUATION_PROJECT\\syllables tests\"):\n",
    "    for file in sorted(files,key= lambda x: int(x.strip('.wav'))):    \n",
    "        print(file)\n",
    "        results.append(model(fr\"C:\\Users\\AbdoHedya\\OneDrive\\سطح المكتب\\testcases-GRADUATION_PROJECT\\syllables tests\\{file}\"))\n",
    "    "
   ]
  },
  {
   "cell_type": "code",
   "execution_count": 27,
   "metadata": {},
   "outputs": [
    {
     "name": "stdout",
     "output_type": "stream",
     "text": [
      "{'text': 'ءِذْ لِيْ'}\n",
      "{'text': 'ءِذْ مِلْ لَاْ لِيْنْ'}\n",
      "{'text': 'ءِذْ مِلْ لَاْ ھِرْ رَحْ ھَبْ'}\n",
      "{'text': 'بِسْ مِلْ لَاْ ھِرْ رَحْ مَاْ نِرْ رَ حِيْمْ'}\n",
      "{'text': 'بِسْ مِلْ لَاْ رَحْ مَ نِرْ رَ حِيْمْ'}\n",
      "{'text': 'ءِذْ لَاْ رَحْ مَ نِرْ رَ حَمْ لِيْنْ'}\n",
      "{'text': 'بِسْ لَاْ رَحْ مَ نِرْ رَ حَمْ بِلْ لَاْ ھِ رَ حِيْمْ'}\n",
      "{'text': 'بِسْ لَاْ تِ مَ نِرْ رَ حَمْ دُ بِلْ لَاْ ھِ رَبْ بِلْ عَ لَ مِيْنْ'}\n",
      "{'text': 'ءِذْ لَاْ تِ مَ نِرْ رَ حَمْ بِلْ لَاْ ھِ رَبْ بِلْ عَ لَ ءَرْ رَحْ مِيْنْ'}\n",
      "{'text': 'بِسْ مِلْ لَاْ ھِرْ رَحْ مَ نِرْ رَ حَمْ دُ لِلْ لَاْ ھِ رَبْ بِلْ عَ لَ ءَرْ رَحْ مَاْ حِيْمْ'}\n"
     ]
    }
   ],
   "source": [
    "for res in results:\n",
    "    print(res)"
   ]
  },
  {
   "cell_type": "code",
   "execution_count": 28,
   "metadata": {},
   "outputs": [
    {
     "data": {
      "text/plain": [
       "{'text': 'بِسْ مِلْ لَاْ ھِرْ رَحْ مَاْ نِرْ رَ حِيْمْ'}"
      ]
     },
     "execution_count": 28,
     "metadata": {},
     "output_type": "execute_result"
    }
   ],
   "source": [
    "model(r\"C:\\Users\\AbdoHedya\\OneDrive\\سطح المكتب\\testcases-GRADUATION_PROJECT\\New folder\\001.wav\")"
   ]
  },
  {
   "cell_type": "code",
   "execution_count": 31,
   "metadata": {},
   "outputs": [],
   "source": [
    "verses = []\n",
    "for i in os.listdir(r\"C:\\Users\\AbdoHedya\\OneDrive\\سطح المكتب\\testcases-GRADUATION_PROJECT\\New folder\"):\n",
    "    verses.append(model(rf\"C:\\Users\\AbdoHedya\\OneDrive\\سطح المكتب\\testcases-GRADUATION_PROJECT\\New folder\\{i}\"))\n",
    "    "
   ]
  },
  {
   "cell_type": "code",
   "execution_count": 33,
   "metadata": {},
   "outputs": [
    {
     "name": "stdout",
     "output_type": "stream",
     "text": [
      "بِسْ مِلْ لَاْ ھِرْ رَحْ مَاْ نِرْ رَ حِيْمْ\n",
      "ءَلْ حَمْ دُ لِلْ لَاْ ھِ رَبْ بِلْ عَ لَ مِيْنْ\n",
      "ءَرْ رَحْ مَاْ نِرْ رَ حِيْمْ\n",
      "مَ لِ كِ يَوْ مِدْ دِيْنْ\n",
      "ءِيْ يَاْ كَ نَعْ بُ دُ وَ ءِيْ يَاْ كَ نَسْ تَ عِيْنْ\n",
      "ءِهْ دِ نَصْ صِ رَاْ طَلْ مُسْ تَ قِيْمْ\n",
      "صِ رَاْ طَلْ لَ ذِيْ نَ ءَنْ عَمْ تَ عَ لَيْ ھِمْ مِيْنْ\n",
      "وَ رِلْ مَغْ ضُوْ بِ عَ لَيْ ھِمْ وَ لَضْ قَاْ ءِ لِيْنْ\n"
     ]
    }
   ],
   "source": [
    "for verse in verses:\n",
    "    print(verse['text'])"
   ]
  }
 ],
 "metadata": {
  "kernelspec": {
   "display_name": "torch-gpu",
   "language": "python",
   "name": "python3"
  },
  "language_info": {
   "codemirror_mode": {
    "name": "ipython",
    "version": 3
   },
   "file_extension": ".py",
   "mimetype": "text/x-python",
   "name": "python",
   "nbconvert_exporter": "python",
   "pygments_lexer": "ipython3",
   "version": "3.11.5"
  }
 },
 "nbformat": 4,
 "nbformat_minor": 2
}
